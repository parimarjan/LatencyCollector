{
 "cells": [
  {
   "cell_type": "code",
   "execution_count": 19,
   "id": "vocal-basic",
   "metadata": {},
   "outputs": [],
   "source": [
    "import pandas as pd\n",
    "import networkx as nx\n",
    "import json"
   ]
  },
  {
   "cell_type": "code",
   "execution_count": 14,
   "id": "respiratory-consolidation",
   "metadata": {},
   "outputs": [],
   "source": [
    "FN = \"../Runtimes-duckdb.csv\""
   ]
  },
  {
   "cell_type": "code",
   "execution_count": 15,
   "id": "upper-population",
   "metadata": {},
   "outputs": [],
   "source": [
    "df = pd.read_csv(FN)"
   ]
  },
  {
   "cell_type": "code",
   "execution_count": 26,
   "id": "undefined-mechanics",
   "metadata": {},
   "outputs": [],
   "source": [
    "exp = df[\"exp_analyze\"].values[5]"
   ]
  },
  {
   "cell_type": "code",
   "execution_count": 27,
   "id": "found-works",
   "metadata": {},
   "outputs": [
    {
     "data": {
      "text/plain": [
       "'[(\\'analyzed_plan\\', \\'{\\\\n   \"name\":  \"Query\", \\\\n   \"result\": 0.717119,\\\\n   \"timing\": 0.717131,\\\\n   \"cardinality\": 0,\\\\n   \"extra-info\": \"explain analyze SELECT MIN(cn.name) AS from_company,\\\\\\\\n       MIN(mc.note) AS production_note,\\\\\\\\n       MIN(t.title) AS movie_based_on_book\\\\\\\\nFROM company_name AS cn,\\\\\\\\n     company_type AS ct,\\\\\\\\n     keyword AS k,\\\\\\\\n     link_type AS lt,\\\\\\\\n     movie_companies AS mc,\\\\\\\\n     movie_keyword AS mk,\\\\\\\\n     movie_link AS ml,\\\\\\\\n     title AS t\\\\\\\\nWHERE cn.country_code !=\\\\\\'[pl]\\\\\\'\\\\\\\\n  AND (cn.name LIKE \\\\\\'20th Century Fox%\\\\\\'\\\\\\\\n       OR cn.name LIKE \\\\\\'Twentieth Century Fox%\\\\\\')\\\\\\\\n  AND ct.kind != \\\\\\'production companies\\\\\\'\\\\\\\\n  AND ct.kind IS NOT NULL\\\\\\\\n  AND k.keyword IN (\\\\\\'sequel\\\\\\',\\\\\\\\n                    \\\\\\'revenge\\\\\\',\\\\\\\\n                    \\\\\\'based-on-novel\\\\\\')\\\\\\\\n  AND mc.note IS NOT NULL\\\\\\\\n  AND t.production_year > 1950\\\\\\\\n  AND lt.id = ml.link_type_id\\\\\\\\n  AND ml.movie_id = t.id\\\\\\\\n  AND t.id = mk.movie_id\\\\\\\\n  AND mk.keyword_id = k.id\\\\\\\\n  AND t.id = mc.movie_id\\\\\\\\n  AND mc.company_type_id = ct.id\\\\\\\\n  AND mc.company_id = cn.id\\\\\\\\n  AND ml.movie_id = mk.movie_id\\\\\\\\n  AND ml.movie_id = mc.movie_id\\\\\\\\n  AND mk.movie_id = mc.movie_id;\\\\\\\\n\\\\\\\\n\", \\\\n   \"timings\": [\\\\n\\\\n   ],\\\\n   \"children\": [\\\\n    {\\\\n      \"name\": \"EXPLAIN_ANALYZE\",\\\\n      \"timing\":0.000000,\\\\n      \"cardinality\":0,\\\\n      \"extra_info\": \"\",\\\\n      \"timings\": [\\\\n      ],\\\\n      \"children\": [\\\\n       {\\\\n         \"name\": \"UNGROUPED_AGGREGATE\",\\\\n         \"timing\":0.000198,\\\\n         \"cardinality\":1,\\\\n         \"extra_info\": \"min(#0)\\\\\\\\nmin(#1)\\\\\\\\nmin(#2)\",\\\\n         \"timings\": [\\\\n         ],\\\\n         \"children\": [\\\\n          {\\\\n            \"name\": \"PROJECTION\",\\\\n            \"timing\":0.000007,\\\\n            \"cardinality\":6946,\\\\n            \"extra_info\": \"name\\\\\\\\nnote\\\\\\\\ntitle\\\\\\\\n\",\\\\n            \"timings\": [\\\\n            ],\\\\n            \"children\": [\\\\n             {\\\\n               \"name\": \"HASH_JOIN\",\\\\n               \"timing\":0.000172,\\\\n               \"cardinality\":6946,\\\\n               \"extra_info\": \"INNER\\\\\\\\nlink_type_id = id\\\\\\\\n\\\\\\\\n[INFOSEPARATOR]\\\\\\\\nEC: 19\\\\\\\\nCost: 8011\",\\\\n               \"timings\": [\\\\n               ],\\\\n               \"children\": [\\\\n                {\\\\n                  \"name\": \"HASH_JOIN\",\\\\n                  \"timing\":0.229352,\\\\n                  \"cardinality\":6946,\\\\n                  \"extra_info\": \"INNER\\\\\\\\nid = keyword_id\\\\\\\\n\\\\\\\\n[INFOSEPARATOR]\\\\\\\\nEC: 19\\\\\\\\nCost: 7991\",\\\\n                  \"timings\": [\\\\n                  ],\\\\n                  \"children\": [\\\\n                   {\\\\n                     \"name\": \"PROJECTION\",\\\\n                     \"timing\":0.000002,\\\\n                     \"cardinality\":3,\\\\n                     \"extra_info\": \"#1\\\\\\\\n\",\\\\n                     \"timings\": [\\\\n                     ],\\\\n                     \"children\": [\\\\n                      {\\\\n                        \"name\": \"FILTER\",\\\\n                        \"timing\":0.007231,\\\\n                        \"cardinality\":3,\\\\n                        \"extra_info\": \"((keyword = \\\\\\'sequel\\\\\\') OR (keyword = \\\\\\'revenge\\\\\\') OR (keyword = \\\\\\'based-on-novel\\\\\\'))\\\\\\\\n[INFOSEPARATOR]\\\\\\\\nEC: 26834\",\\\\n                        \"timings\": [\\\\n                        ],\\\\n                        \"children\": [\\\\n                         {\\\\n                           \"name\": \"SEQ_SCAN \",\\\\n                           \"timing\":0.019049,\\\\n                           \"cardinality\":134170,\\\\n                           \"extra_info\": \"keyword\\\\\\\\n[INFOSEPARATOR]\\\\\\\\nkeyword\\\\\\\\nid\\\\\\\\n[INFOSEPARATOR]\\\\\\\\nEC: 134170\",\\\\n                           \"timings\": [\\\\n                           ],\\\\n                           \"children\": [\\\\n                           ]\\\\n                         }\\\\n                        ]\\\\n                      }\\\\n                     ]\\\\n                   }\\\\n,\\\\n                   {\\\\n                     \"name\": \"HASH_JOIN\",\\\\n                     \"timing\":0.216133,\\\\n                     \"cardinality\":780776,\\\\n                     \"extra_info\": \"INNER\\\\\\\\nmovie_id = id\\\\\\\\nmovie_id = movie_id\\\\\\\\nmovie_id = movie_id\\\\\\\\n\\\\\\\\n[INFOSEPARATOR]\\\\\\\\nEC: 98\\\\\\\\nCost: 7971\",\\\\n                     \"timings\": [\\\\n                     ],\\\\n                     \"children\": [\\\\n                      {\\\\n                        \"name\": \"SEQ_SCAN \",\\\\n                        \"timing\":0.070180,\\\\n                        \"cardinality\":4523930,\\\\n                        \"extra_info\": \"movie_keyword\\\\\\\\n[INFOSEPARATOR]\\\\\\\\nmovie_id\\\\\\\\nkeyword_id\\\\\\\\n[INFOSEPARATOR]\\\\\\\\nEC: 4523930\",\\\\n                        \"timings\": [\\\\n                        ],\\\\n                        \"children\": [\\\\n                        ]\\\\n                      }\\\\n,\\\\n                      {\\\\n                        \"name\": \"HASH_JOIN\",\\\\n                        \"timing\":0.026016,\\\\n                        \"cardinality\":8393,\\\\n                        \"extra_info\": \"INNER\\\\\\\\nid = company_id\\\\\\\\n\\\\\\\\n[INFOSEPARATOR]\\\\\\\\nEC: 53\\\\\\\\nCost: 7872\",\\\\n                        \"timings\": [\\\\n                        ],\\\\n                        \"children\": [\\\\n                         {\\\\n                           \"name\": \"PROJECTION\",\\\\n                           \"timing\":0.000002,\\\\n                           \"cardinality\":89,\\\\n                           \"extra_info\": \"#1\\\\\\\\n#2\\\\\\\\n\",\\\\n                           \"timings\": [\\\\n                           ],\\\\n                           \"children\": [\\\\n                            {\\\\n                              \"name\": \"FILTER\",\\\\n                              \"timing\":0.021212,\\\\n                              \"cardinality\":89,\\\\n                              \"extra_info\": \"((country_code != \\\\\\'[pl]\\\\\\') AND (prefix(name, \\\\\\'20th Century Fox\\\\\\') OR prefix(name, \\\\\\'Twentieth Century Fox\\\\\\')))\\\\\\\\n[INFOSEPARATOR]\\\\\\\\nEC: 46999\",\\\\n                              \"timings\": [\\\\n                              ],\\\\n                              \"children\": [\\\\n                               {\\\\n                                 \"name\": \"SEQ_SCAN \",\\\\n                                 \"timing\":0.028377,\\\\n                                 \"cardinality\":234997,\\\\n                                 \"extra_info\": \"company_name\\\\\\\\n[INFOSEPARATOR]\\\\\\\\ncountry_code\\\\\\\\nname\\\\\\\\nid\\\\\\\\n[INFOSEPARATOR]\\\\\\\\nEC: 234997\",\\\\n                                 \"timings\": [\\\\n                                 ],\\\\n                                 \"children\": [\\\\n                                 ]\\\\n                               }\\\\n                              ]\\\\n                            }\\\\n                           ]\\\\n                         }\\\\n,\\\\n                         {\\\\n                           \"name\": \"HASH_JOIN\",\\\\n                           \"timing\":0.001460,\\\\n                           \"cardinality\":96891,\\\\n                           \"extra_info\": \"INNER\\\\\\\\ncompany_type_id = id\\\\\\\\n\\\\\\\\n[INFOSEPARATOR]\\\\\\\\nEC: 266\\\\\\\\nCost: 7819\",\\\\n                           \"timings\": [\\\\n                           ],\\\\n                           \"children\": [\\\\n                            {\\\\n                              \"name\": \"HASH_JOIN\",\\\\n                              \"timing\":0.289372,\\\\n                              \"cardinality\":104935,\\\\n                              \"extra_info\": \"INNER\\\\\\\\nmovie_id = movie_id\\\\\\\\nmovie_id = id\\\\\\\\n\\\\\\\\n[INFOSEPARATOR]\\\\\\\\nEC: 1331\\\\\\\\nCost: 7553\",\\\\n                              \"timings\": [\\\\n                              ],\\\\n                              \"children\": [\\\\n                               {\\\\n                                 \"name\": \"FILTER\",\\\\n                                 \"timing\":0.022903,\\\\n                                 \"cardinality\":1337140,\\\\n                                 \"extra_info\": \"(note IS NOT NULL)\\\\\\\\n[INFOSEPARATOR]\\\\\\\\nEC: 521825\",\\\\n                                 \"timings\": [\\\\n                                 ],\\\\n                                 \"children\": [\\\\n                                  {\\\\n                                    \"name\": \"SEQ_SCAN \",\\\\n                                    \"timing\":0.213950,\\\\n                                    \"cardinality\":2609129,\\\\n                                    \"extra_info\": \"movie_companies\\\\\\\\n[INFOSEPARATOR]\\\\\\\\nnote\\\\\\\\nmovie_id\\\\\\\\ncompany_type_id\\\\\\\\ncompany_id\\\\\\\\n[INFOSEPARATOR]\\\\\\\\nEC: 2609129\",\\\\n                                    \"timings\": [\\\\n                                    ],\\\\n                                    \"children\": [\\\\n                                    ]\\\\n                                  }\\\\n                                 ]\\\\n                               }\\\\n,\\\\n                               {\\\\n                                 \"name\": \"HASH_JOIN\",\\\\n                                 \"timing\":0.104072,\\\\n                                 \"cardinality\":29726,\\\\n                                 \"extra_info\": \"INNER\\\\\\\\nid = movie_id\\\\\\\\n\\\\\\\\n[INFOSEPARATOR]\\\\\\\\nEC: 6221\\\\\\\\nCost: 6221\",\\\\n                                 \"timings\": [\\\\n                                 ],\\\\n                                 \"children\": [\\\\n                                  {\\\\n                                    \"name\": \"SEQ_SCAN \",\\\\n                                    \"timing\":0.341203,\\\\n                                    \"cardinality\":2287271,\\\\n                                    \"extra_info\": \"title\\\\\\\\n[INFOSEPARATOR]\\\\\\\\nid\\\\\\\\ntitle\\\\\\\\n[INFOSEPARATOR]\\\\\\\\nFilters: production_year>1950 AND production_year IS NOT NULL\\\\\\\\n\\\\\\\\n[INFOSEPARATOR]\\\\\\\\nEC: 505662\",\\\\n                                    \"timings\": [\\\\n                                    ],\\\\n                                    \"children\": [\\\\n                                    ]\\\\n                                  }\\\\n,\\\\n                                  {\\\\n                                    \"name\": \"SEQ_SCAN \",\\\\n                                    \"timing\":0.000663,\\\\n                                    \"cardinality\":29997,\\\\n                                    \"extra_info\": \"movie_link\\\\\\\\n[INFOSEPARATOR]\\\\\\\\nlink_type_id\\\\\\\\nmovie_id\\\\\\\\n[INFOSEPARATOR]\\\\\\\\nEC: 29997\",\\\\n                                    \"timings\": [\\\\n                                    ],\\\\n                                    \"children\": [\\\\n                                    ]\\\\n                                  }\\\\n                                 ]\\\\n                               }\\\\n                              ]\\\\n                            }\\\\n,\\\\n                            {\\\\n                              \"name\": \"PROJECTION\",\\\\n                              \"timing\":0.000002,\\\\n                              \"cardinality\":3,\\\\n                              \"extra_info\": \"#1\\\\\\\\n\",\\\\n                              \"timings\": [\\\\n                              ],\\\\n                              \"children\": [\\\\n                               {\\\\n                                 \"name\": \"FILTER\",\\\\n                                 \"timing\":0.000081,\\\\n                                 \"cardinality\":3,\\\\n                                 \"extra_info\": \"(kind != \\\\\\'production companies\\\\\\')\\\\\\\\n[INFOSEPARATOR]\\\\\\\\nEC: 0\",\\\\n                                 \"timings\": [\\\\n                                 ],\\\\n                                 \"children\": [\\\\n                                  {\\\\n                                    \"name\": \"SEQ_SCAN \",\\\\n                                    \"timing\":0.000487,\\\\n                                    \"cardinality\":4,\\\\n                                    \"extra_info\": \"company_type\\\\\\\\n[INFOSEPARATOR]\\\\\\\\nkind\\\\\\\\nid\\\\\\\\n[INFOSEPARATOR]\\\\\\\\nEC: 4\",\\\\n                                    \"timings\": [\\\\n                                    ],\\\\n                                    \"children\": [\\\\n                                    ]\\\\n                                  }\\\\n                                 ]\\\\n                               }\\\\n                              ]\\\\n                            }\\\\n                           ]\\\\n                         }\\\\n                        ]\\\\n                      }\\\\n                     ]\\\\n                   }\\\\n                  ]\\\\n                }\\\\n,\\\\n                {\\\\n                  \"name\": \"SEQ_SCAN \",\\\\n                  \"timing\":0.000181,\\\\n                  \"cardinality\":18,\\\\n                  \"extra_info\": \"link_type\\\\\\\\n[INFOSEPARATOR]\\\\\\\\nid\\\\\\\\n[INFOSEPARATOR]\\\\\\\\nEC: 18\",\\\\n                  \"timings\": [\\\\n                  ],\\\\n                  \"children\": [\\\\n                  ]\\\\n                }\\\\n               ]\\\\n             }\\\\n            ]\\\\n          }\\\\n         ]\\\\n       }\\\\n      ]\\\\n    }\\\\n   ]\\\\n}\\')]'"
      ]
     },
     "execution_count": 27,
     "metadata": {},
     "output_type": "execute_result"
    }
   ],
   "source": [
    "exp"
   ]
  },
  {
   "cell_type": "code",
   "execution_count": 35,
   "id": "vocational-monday",
   "metadata": {},
   "outputs": [
    {
     "name": "stdout",
     "output_type": "stream",
     "text": [
      "[('Query', {'name': 'Query', 'result': 0.717119, 'timing': 0.717131, 'cardinality': 0, 'extra-info': \"explain analyze SELECT MIN(cn.name) AS from_company,\\n       MIN(mc.note) AS production_note,\\n       MIN(t.title) AS movie_based_on_book\\nFROM company_name AS cn,\\n     company_type AS ct,\\n     keyword AS k,\\n     link_type AS lt,\\n     movie_companies AS mc,\\n     movie_keyword AS mk,\\n     movie_link AS ml,\\n     title AS t\\nWHERE cn.country_code !='[pl]'\\n  AND (cn.name LIKE '20th Century Fox%'\\n       OR cn.name LIKE 'Twentieth Century Fox%')\\n  AND ct.kind != 'production companies'\\n  AND ct.kind IS NOT NULL\\n  AND k.keyword IN ('sequel',\\n                    'revenge',\\n                    'based-on-novel')\\n  AND mc.note IS NOT NULL\\n  AND t.production_year > 1950\\n  AND lt.id = ml.link_type_id\\n  AND ml.movie_id = t.id\\n  AND t.id = mk.movie_id\\n  AND mk.keyword_id = k.id\\n  AND t.id = mc.movie_id\\n  AND mc.company_type_id = ct.id\\n  AND mc.company_id = cn.id\\n  AND ml.movie_id = mk.movie_id\\n  AND ml.movie_id = mc.movie_id\\n  AND mk.movie_id = mc.movie_id;\\n\\n\", 'timings': [], 'children': [{'name': 'EXPLAIN_ANALYZE', 'timing': 0.0, 'cardinality': 0, 'extra_info': '', 'timings': [], 'children': [{'name': 'UNGROUPED_AGGREGATE', 'timing': 0.000198, 'cardinality': 1, 'extra_info': 'min(#0)\\nmin(#1)\\nmin(#2)', 'timings': [], 'children': [{'name': 'PROJECTION', 'timing': 7e-06, 'cardinality': 6946, 'extra_info': 'name\\nnote\\ntitle\\n', 'timings': [], 'children': [{'name': 'HASH_JOIN', 'timing': 0.000172, 'cardinality': 6946, 'extra_info': 'INNER\\nlink_type_id = id\\n\\n[INFOSEPARATOR]\\nEC: 19\\nCost: 8011', 'timings': [], 'children': [{'name': 'HASH_JOIN', 'timing': 0.229352, 'cardinality': 6946, 'extra_info': 'INNER\\nid = keyword_id\\n\\n[INFOSEPARATOR]\\nEC: 19\\nCost: 7991', 'timings': [], 'children': [{'name': 'PROJECTION', 'timing': 2e-06, 'cardinality': 3, 'extra_info': '#1\\n', 'timings': [], 'children': [{'name': 'FILTER', 'timing': 0.007231, 'cardinality': 3, 'extra_info': \"((keyword = 'sequel') OR (keyword = 'revenge') OR (keyword = 'based-on-novel'))\\n[INFOSEPARATOR]\\nEC: 26834\", 'timings': [], 'children': [{'name': 'SEQ_SCAN ', 'timing': 0.019049, 'cardinality': 134170, 'extra_info': 'keyword\\n[INFOSEPARATOR]\\nkeyword\\nid\\n[INFOSEPARATOR]\\nEC: 134170', 'timings': [], 'children': []}]}]}, {'name': 'HASH_JOIN', 'timing': 0.216133, 'cardinality': 780776, 'extra_info': 'INNER\\nmovie_id = id\\nmovie_id = movie_id\\nmovie_id = movie_id\\n\\n[INFOSEPARATOR]\\nEC: 98\\nCost: 7971', 'timings': [], 'children': [{'name': 'SEQ_SCAN ', 'timing': 0.07018, 'cardinality': 4523930, 'extra_info': 'movie_keyword\\n[INFOSEPARATOR]\\nmovie_id\\nkeyword_id\\n[INFOSEPARATOR]\\nEC: 4523930', 'timings': [], 'children': []}, {'name': 'HASH_JOIN', 'timing': 0.026016, 'cardinality': 8393, 'extra_info': 'INNER\\nid = company_id\\n\\n[INFOSEPARATOR]\\nEC: 53\\nCost: 7872', 'timings': [], 'children': [{'name': 'PROJECTION', 'timing': 2e-06, 'cardinality': 89, 'extra_info': '#1\\n#2\\n', 'timings': [], 'children': [{'name': 'FILTER', 'timing': 0.021212, 'cardinality': 89, 'extra_info': \"((country_code != '[pl]') AND (prefix(name, '20th Century Fox') OR prefix(name, 'Twentieth Century Fox')))\\n[INFOSEPARATOR]\\nEC: 46999\", 'timings': [], 'children': [{'name': 'SEQ_SCAN ', 'timing': 0.028377, 'cardinality': 234997, 'extra_info': 'company_name\\n[INFOSEPARATOR]\\ncountry_code\\nname\\nid\\n[INFOSEPARATOR]\\nEC: 234997', 'timings': [], 'children': []}]}]}, {'name': 'HASH_JOIN', 'timing': 0.00146, 'cardinality': 96891, 'extra_info': 'INNER\\ncompany_type_id = id\\n\\n[INFOSEPARATOR]\\nEC: 266\\nCost: 7819', 'timings': [], 'children': [{'name': 'HASH_JOIN', 'timing': 0.289372, 'cardinality': 104935, 'extra_info': 'INNER\\nmovie_id = movie_id\\nmovie_id = id\\n\\n[INFOSEPARATOR]\\nEC: 1331\\nCost: 7553', 'timings': [], 'children': [{'name': 'FILTER', 'timing': 0.022903, 'cardinality': 1337140, 'extra_info': '(note IS NOT NULL)\\n[INFOSEPARATOR]\\nEC: 521825', 'timings': [], 'children': [{'name': 'SEQ_SCAN ', 'timing': 0.21395, 'cardinality': 2609129, 'extra_info': 'movie_companies\\n[INFOSEPARATOR]\\nnote\\nmovie_id\\ncompany_type_id\\ncompany_id\\n[INFOSEPARATOR]\\nEC: 2609129', 'timings': [], 'children': []}]}, {'name': 'HASH_JOIN', 'timing': 0.104072, 'cardinality': 29726, 'extra_info': 'INNER\\nid = movie_id\\n\\n[INFOSEPARATOR]\\nEC: 6221\\nCost: 6221', 'timings': [], 'children': [{'name': 'SEQ_SCAN ', 'timing': 0.341203, 'cardinality': 2287271, 'extra_info': 'title\\n[INFOSEPARATOR]\\nid\\ntitle\\n[INFOSEPARATOR]\\nFilters: production_year>1950 AND production_year IS NOT NULL\\n\\n[INFOSEPARATOR]\\nEC: 505662', 'timings': [], 'children': []}, {'name': 'SEQ_SCAN ', 'timing': 0.000663, 'cardinality': 29997, 'extra_info': 'movie_link\\n[INFOSEPARATOR]\\nlink_type_id\\nmovie_id\\n[INFOSEPARATOR]\\nEC: 29997', 'timings': [], 'children': []}]}]}, {'name': 'PROJECTION', 'timing': 2e-06, 'cardinality': 3, 'extra_info': '#1\\n', 'timings': [], 'children': [{'name': 'FILTER', 'timing': 8.1e-05, 'cardinality': 3, 'extra_info': \"(kind != 'production companies')\\n[INFOSEPARATOR]\\nEC: 0\", 'timings': [], 'children': [{'name': 'SEQ_SCAN ', 'timing': 0.000487, 'cardinality': 4, 'extra_info': 'company_type\\n[INFOSEPARATOR]\\nkind\\nid\\n[INFOSEPARATOR]\\nEC: 4', 'timings': [], 'children': []}]}]}]}]}]}]}, {'name': 'SEQ_SCAN ', 'timing': 0.000181, 'cardinality': 18, 'extra_info': 'link_type\\n[INFOSEPARATOR]\\nid\\n[INFOSEPARATOR]\\nEC: 18', 'timings': [], 'children': []}]}]}]}]}]}), ('EXPLAIN_ANALYZE', {'name': 'EXPLAIN_ANALYZE', 'timing': 0.0, 'cardinality': 0, 'extra_info': '', 'timings': [], 'children': [{'name': 'UNGROUPED_AGGREGATE', 'timing': 0.000198, 'cardinality': 1, 'extra_info': 'min(#0)\\nmin(#1)\\nmin(#2)', 'timings': [], 'children': [{'name': 'PROJECTION', 'timing': 7e-06, 'cardinality': 6946, 'extra_info': 'name\\nnote\\ntitle\\n', 'timings': [], 'children': [{'name': 'HASH_JOIN', 'timing': 0.000172, 'cardinality': 6946, 'extra_info': 'INNER\\nlink_type_id = id\\n\\n[INFOSEPARATOR]\\nEC: 19\\nCost: 8011', 'timings': [], 'children': [{'name': 'HASH_JOIN', 'timing': 0.229352, 'cardinality': 6946, 'extra_info': 'INNER\\nid = keyword_id\\n\\n[INFOSEPARATOR]\\nEC: 19\\nCost: 7991', 'timings': [], 'children': [{'name': 'PROJECTION', 'timing': 2e-06, 'cardinality': 3, 'extra_info': '#1\\n', 'timings': [], 'children': [{'name': 'FILTER', 'timing': 0.007231, 'cardinality': 3, 'extra_info': \"((keyword = 'sequel') OR (keyword = 'revenge') OR (keyword = 'based-on-novel'))\\n[INFOSEPARATOR]\\nEC: 26834\", 'timings': [], 'children': [{'name': 'SEQ_SCAN ', 'timing': 0.019049, 'cardinality': 134170, 'extra_info': 'keyword\\n[INFOSEPARATOR]\\nkeyword\\nid\\n[INFOSEPARATOR]\\nEC: 134170', 'timings': [], 'children': []}]}]}, {'name': 'HASH_JOIN', 'timing': 0.216133, 'cardinality': 780776, 'extra_info': 'INNER\\nmovie_id = id\\nmovie_id = movie_id\\nmovie_id = movie_id\\n\\n[INFOSEPARATOR]\\nEC: 98\\nCost: 7971', 'timings': [], 'children': [{'name': 'SEQ_SCAN ', 'timing': 0.07018, 'cardinality': 4523930, 'extra_info': 'movie_keyword\\n[INFOSEPARATOR]\\nmovie_id\\nkeyword_id\\n[INFOSEPARATOR]\\nEC: 4523930', 'timings': [], 'children': []}, {'name': 'HASH_JOIN', 'timing': 0.026016, 'cardinality': 8393, 'extra_info': 'INNER\\nid = company_id\\n\\n[INFOSEPARATOR]\\nEC: 53\\nCost: 7872', 'timings': [], 'children': [{'name': 'PROJECTION', 'timing': 2e-06, 'cardinality': 89, 'extra_info': '#1\\n#2\\n', 'timings': [], 'children': [{'name': 'FILTER', 'timing': 0.021212, 'cardinality': 89, 'extra_info': \"((country_code != '[pl]') AND (prefix(name, '20th Century Fox') OR prefix(name, 'Twentieth Century Fox')))\\n[INFOSEPARATOR]\\nEC: 46999\", 'timings': [], 'children': [{'name': 'SEQ_SCAN ', 'timing': 0.028377, 'cardinality': 234997, 'extra_info': 'company_name\\n[INFOSEPARATOR]\\ncountry_code\\nname\\nid\\n[INFOSEPARATOR]\\nEC: 234997', 'timings': [], 'children': []}]}]}, {'name': 'HASH_JOIN', 'timing': 0.00146, 'cardinality': 96891, 'extra_info': 'INNER\\ncompany_type_id = id\\n\\n[INFOSEPARATOR]\\nEC: 266\\nCost: 7819', 'timings': [], 'children': [{'name': 'HASH_JOIN', 'timing': 0.289372, 'cardinality': 104935, 'extra_info': 'INNER\\nmovie_id = movie_id\\nmovie_id = id\\n\\n[INFOSEPARATOR]\\nEC: 1331\\nCost: 7553', 'timings': [], 'children': [{'name': 'FILTER', 'timing': 0.022903, 'cardinality': 1337140, 'extra_info': '(note IS NOT NULL)\\n[INFOSEPARATOR]\\nEC: 521825', 'timings': [], 'children': [{'name': 'SEQ_SCAN ', 'timing': 0.21395, 'cardinality': 2609129, 'extra_info': 'movie_companies\\n[INFOSEPARATOR]\\nnote\\nmovie_id\\ncompany_type_id\\ncompany_id\\n[INFOSEPARATOR]\\nEC: 2609129', 'timings': [], 'children': []}]}, {'name': 'HASH_JOIN', 'timing': 0.104072, 'cardinality': 29726, 'extra_info': 'INNER\\nid = movie_id\\n\\n[INFOSEPARATOR]\\nEC: 6221\\nCost: 6221', 'timings': [], 'children': [{'name': 'SEQ_SCAN ', 'timing': 0.341203, 'cardinality': 2287271, 'extra_info': 'title\\n[INFOSEPARATOR]\\nid\\ntitle\\n[INFOSEPARATOR]\\nFilters: production_year>1950 AND production_year IS NOT NULL\\n\\n[INFOSEPARATOR]\\nEC: 505662', 'timings': [], 'children': []}, {'name': 'SEQ_SCAN ', 'timing': 0.000663, 'cardinality': 29997, 'extra_info': 'movie_link\\n[INFOSEPARATOR]\\nlink_type_id\\nmovie_id\\n[INFOSEPARATOR]\\nEC: 29997', 'timings': [], 'children': []}]}]}, {'name': 'PROJECTION', 'timing': 2e-06, 'cardinality': 3, 'extra_info': '#1\\n', 'timings': [], 'children': [{'name': 'FILTER', 'timing': 8.1e-05, 'cardinality': 3, 'extra_info': \"(kind != 'production companies')\\n[INFOSEPARATOR]\\nEC: 0\", 'timings': [], 'children': [{'name': 'SEQ_SCAN ', 'timing': 0.000487, 'cardinality': 4, 'extra_info': 'company_type\\n[INFOSEPARATOR]\\nkind\\nid\\n[INFOSEPARATOR]\\nEC: 4', 'timings': [], 'children': []}]}]}]}]}]}]}, {'name': 'SEQ_SCAN ', 'timing': 0.000181, 'cardinality': 18, 'extra_info': 'link_type\\n[INFOSEPARATOR]\\nid\\n[INFOSEPARATOR]\\nEC: 18', 'timings': [], 'children': []}]}]}]}]}), ('UNGROUPED_AGGREGATE', {'name': 'UNGROUPED_AGGREGATE', 'timing': 0.000198, 'cardinality': 1, 'extra_info': 'min(#0)\\nmin(#1)\\nmin(#2)', 'timings': [], 'children': [{'name': 'PROJECTION', 'timing': 7e-06, 'cardinality': 6946, 'extra_info': 'name\\nnote\\ntitle\\n', 'timings': [], 'children': [{'name': 'HASH_JOIN', 'timing': 0.000172, 'cardinality': 6946, 'extra_info': 'INNER\\nlink_type_id = id\\n\\n[INFOSEPARATOR]\\nEC: 19\\nCost: 8011', 'timings': [], 'children': [{'name': 'HASH_JOIN', 'timing': 0.229352, 'cardinality': 6946, 'extra_info': 'INNER\\nid = keyword_id\\n\\n[INFOSEPARATOR]\\nEC: 19\\nCost: 7991', 'timings': [], 'children': [{'name': 'PROJECTION', 'timing': 2e-06, 'cardinality': 3, 'extra_info': '#1\\n', 'timings': [], 'children': [{'name': 'FILTER', 'timing': 0.007231, 'cardinality': 3, 'extra_info': \"((keyword = 'sequel') OR (keyword = 'revenge') OR (keyword = 'based-on-novel'))\\n[INFOSEPARATOR]\\nEC: 26834\", 'timings': [], 'children': [{'name': 'SEQ_SCAN ', 'timing': 0.019049, 'cardinality': 134170, 'extra_info': 'keyword\\n[INFOSEPARATOR]\\nkeyword\\nid\\n[INFOSEPARATOR]\\nEC: 134170', 'timings': [], 'children': []}]}]}, {'name': 'HASH_JOIN', 'timing': 0.216133, 'cardinality': 780776, 'extra_info': 'INNER\\nmovie_id = id\\nmovie_id = movie_id\\nmovie_id = movie_id\\n\\n[INFOSEPARATOR]\\nEC: 98\\nCost: 7971', 'timings': [], 'children': [{'name': 'SEQ_SCAN ', 'timing': 0.07018, 'cardinality': 4523930, 'extra_info': 'movie_keyword\\n[INFOSEPARATOR]\\nmovie_id\\nkeyword_id\\n[INFOSEPARATOR]\\nEC: 4523930', 'timings': [], 'children': []}, {'name': 'HASH_JOIN', 'timing': 0.026016, 'cardinality': 8393, 'extra_info': 'INNER\\nid = company_id\\n\\n[INFOSEPARATOR]\\nEC: 53\\nCost: 7872', 'timings': [], 'children': [{'name': 'PROJECTION', 'timing': 2e-06, 'cardinality': 89, 'extra_info': '#1\\n#2\\n', 'timings': [], 'children': [{'name': 'FILTER', 'timing': 0.021212, 'cardinality': 89, 'extra_info': \"((country_code != '[pl]') AND (prefix(name, '20th Century Fox') OR prefix(name, 'Twentieth Century Fox')))\\n[INFOSEPARATOR]\\nEC: 46999\", 'timings': [], 'children': [{'name': 'SEQ_SCAN ', 'timing': 0.028377, 'cardinality': 234997, 'extra_info': 'company_name\\n[INFOSEPARATOR]\\ncountry_code\\nname\\nid\\n[INFOSEPARATOR]\\nEC: 234997', 'timings': [], 'children': []}]}]}, {'name': 'HASH_JOIN', 'timing': 0.00146, 'cardinality': 96891, 'extra_info': 'INNER\\ncompany_type_id = id\\n\\n[INFOSEPARATOR]\\nEC: 266\\nCost: 7819', 'timings': [], 'children': [{'name': 'HASH_JOIN', 'timing': 0.289372, 'cardinality': 104935, 'extra_info': 'INNER\\nmovie_id = movie_id\\nmovie_id = id\\n\\n[INFOSEPARATOR]\\nEC: 1331\\nCost: 7553', 'timings': [], 'children': [{'name': 'FILTER', 'timing': 0.022903, 'cardinality': 1337140, 'extra_info': '(note IS NOT NULL)\\n[INFOSEPARATOR]\\nEC: 521825', 'timings': [], 'children': [{'name': 'SEQ_SCAN ', 'timing': 0.21395, 'cardinality': 2609129, 'extra_info': 'movie_companies\\n[INFOSEPARATOR]\\nnote\\nmovie_id\\ncompany_type_id\\ncompany_id\\n[INFOSEPARATOR]\\nEC: 2609129', 'timings': [], 'children': []}]}, {'name': 'HASH_JOIN', 'timing': 0.104072, 'cardinality': 29726, 'extra_info': 'INNER\\nid = movie_id\\n\\n[INFOSEPARATOR]\\nEC: 6221\\nCost: 6221', 'timings': [], 'children': [{'name': 'SEQ_SCAN ', 'timing': 0.341203, 'cardinality': 2287271, 'extra_info': 'title\\n[INFOSEPARATOR]\\nid\\ntitle\\n[INFOSEPARATOR]\\nFilters: production_year>1950 AND production_year IS NOT NULL\\n\\n[INFOSEPARATOR]\\nEC: 505662', 'timings': [], 'children': []}, {'name': 'SEQ_SCAN ', 'timing': 0.000663, 'cardinality': 29997, 'extra_info': 'movie_link\\n[INFOSEPARATOR]\\nlink_type_id\\nmovie_id\\n[INFOSEPARATOR]\\nEC: 29997', 'timings': [], 'children': []}]}]}, {'name': 'PROJECTION', 'timing': 2e-06, 'cardinality': 3, 'extra_info': '#1\\n', 'timings': [], 'children': [{'name': 'FILTER', 'timing': 8.1e-05, 'cardinality': 3, 'extra_info': \"(kind != 'production companies')\\n[INFOSEPARATOR]\\nEC: 0\", 'timings': [], 'children': [{'name': 'SEQ_SCAN ', 'timing': 0.000487, 'cardinality': 4, 'extra_info': 'company_type\\n[INFOSEPARATOR]\\nkind\\nid\\n[INFOSEPARATOR]\\nEC: 4', 'timings': [], 'children': []}]}]}]}]}]}]}, {'name': 'SEQ_SCAN ', 'timing': 0.000181, 'cardinality': 18, 'extra_info': 'link_type\\n[INFOSEPARATOR]\\nid\\n[INFOSEPARATOR]\\nEC: 18', 'timings': [], 'children': []}]}]}]}), ('PROJECTION', {'name': 'PROJECTION', 'timing': 2e-06, 'cardinality': 3, 'extra_info': '#1\\n', 'timings': [], 'children': [{'name': 'FILTER', 'timing': 8.1e-05, 'cardinality': 3, 'extra_info': \"(kind != 'production companies')\\n[INFOSEPARATOR]\\nEC: 0\", 'timings': [], 'children': [{'name': 'SEQ_SCAN ', 'timing': 0.000487, 'cardinality': 4, 'extra_info': 'company_type\\n[INFOSEPARATOR]\\nkind\\nid\\n[INFOSEPARATOR]\\nEC: 4', 'timings': [], 'children': []}]}]}), ('HASH_JOIN', {'name': 'HASH_JOIN', 'timing': 0.104072, 'cardinality': 29726, 'extra_info': 'INNER\\nid = movie_id\\n\\n[INFOSEPARATOR]\\nEC: 6221\\nCost: 6221', 'timings': [], 'children': [{'name': 'SEQ_SCAN ', 'timing': 0.341203, 'cardinality': 2287271, 'extra_info': 'title\\n[INFOSEPARATOR]\\nid\\ntitle\\n[INFOSEPARATOR]\\nFilters: production_year>1950 AND production_year IS NOT NULL\\n\\n[INFOSEPARATOR]\\nEC: 505662', 'timings': [], 'children': []}, {'name': 'SEQ_SCAN ', 'timing': 0.000663, 'cardinality': 29997, 'extra_info': 'movie_link\\n[INFOSEPARATOR]\\nlink_type_id\\nmovie_id\\n[INFOSEPARATOR]\\nEC: 29997', 'timings': [], 'children': []}]}), ('FILTER', {'name': 'FILTER', 'timing': 8.1e-05, 'cardinality': 3, 'extra_info': \"(kind != 'production companies')\\n[INFOSEPARATOR]\\nEC: 0\", 'timings': [], 'children': [{'name': 'SEQ_SCAN ', 'timing': 0.000487, 'cardinality': 4, 'extra_info': 'company_type\\n[INFOSEPARATOR]\\nkind\\nid\\n[INFOSEPARATOR]\\nEC: 4', 'timings': [], 'children': []}]}), ('SEQ_SCAN ', {'name': 'SEQ_SCAN ', 'timing': 0.000181, 'cardinality': 18, 'extra_info': 'link_type\\n[INFOSEPARATOR]\\nid\\n[INFOSEPARATOR]\\nEC: 18', 'timings': [], 'children': []})]\n"
     ]
    }
   ],
   "source": [
    "import ast\n",
    "\n",
    "# Assuming the data string you provided is stored in a variable named 'data'\n",
    "tuple_data = ast.literal_eval(exp)\n",
    "json_string = tuple_data[0][1]  # Extracting the second element of the tuple\n",
    "\n",
    "parsed_data = json.loads(json_string)\n",
    "graph = nx.DiGraph()\n",
    "\n",
    "\n",
    "def add_nodes_and_edges(parent, data):\n",
    "    # Adding the current node to the graph\n",
    "    graph.add_node(data[\"name\"], **data)\n",
    "    \n",
    "    # If this node is not the root node, add an edge from the parent\n",
    "    if parent:\n",
    "        graph.add_edge(parent, data[\"name\"])\n",
    "    \n",
    "    # If this node has children, call this function recursively for each child\n",
    "    for child in data.get(\"children\", []):\n",
    "        add_nodes_and_edges(data[\"name\"], child)\n",
    "\n",
    "root_data = parsed_data\n",
    "add_nodes_and_edges(None, root_data)\n",
    "\n",
    "# print nodes\n",
    "print(graph.nodes(data=True))"
   ]
  },
  {
   "cell_type": "code",
   "execution_count": 36,
   "id": "personalized-beijing",
   "metadata": {},
   "outputs": [
    {
     "data": {
      "text/plain": [
       "NodeView(('Query', 'EXPLAIN_ANALYZE', 'UNGROUPED_AGGREGATE', 'PROJECTION', 'HASH_JOIN', 'FILTER', 'SEQ_SCAN '))"
      ]
     },
     "execution_count": 36,
     "metadata": {},
     "output_type": "execute_result"
    }
   ],
   "source": [
    "graph.nodes(data=False)"
   ]
  },
  {
   "cell_type": "code",
   "execution_count": 44,
   "id": "banner-connecticut",
   "metadata": {},
   "outputs": [
    {
     "data": {
      "text/plain": [
       "dict_keys(['name', 'result', 'timing', 'cardinality', 'extra-info', 'timings', 'children'])"
      ]
     },
     "execution_count": 44,
     "metadata": {},
     "output_type": "execute_result"
    }
   ],
   "source": [
    "parsed_data.keys()"
   ]
  },
  {
   "cell_type": "code",
   "execution_count": 50,
   "id": "possible-judges",
   "metadata": {},
   "outputs": [
    {
     "data": {
      "text/plain": [
       "{'name': 'EXPLAIN_ANALYZE',\n",
       " 'timing': 0.0,\n",
       " 'cardinality': 0,\n",
       " 'extra_info': '',\n",
       " 'timings': [],\n",
       " 'children': [{'name': 'UNGROUPED_AGGREGATE',\n",
       "   'timing': 0.000198,\n",
       "   'cardinality': 1,\n",
       "   'extra_info': 'min(#0)\\nmin(#1)\\nmin(#2)',\n",
       "   'timings': [],\n",
       "   'children': [{'name': 'PROJECTION',\n",
       "     'timing': 7e-06,\n",
       "     'cardinality': 6946,\n",
       "     'extra_info': 'name\\nnote\\ntitle\\n',\n",
       "     'timings': [],\n",
       "     'children': [{'name': 'HASH_JOIN',\n",
       "       'timing': 0.000172,\n",
       "       'cardinality': 6946,\n",
       "       'extra_info': 'INNER\\nlink_type_id = id\\n\\n[INFOSEPARATOR]\\nEC: 19\\nCost: 8011',\n",
       "       'timings': [],\n",
       "       'children': [{'name': 'HASH_JOIN',\n",
       "         'timing': 0.229352,\n",
       "         'cardinality': 6946,\n",
       "         'extra_info': 'INNER\\nid = keyword_id\\n\\n[INFOSEPARATOR]\\nEC: 19\\nCost: 7991',\n",
       "         'timings': [],\n",
       "         'children': [{'name': 'PROJECTION',\n",
       "           'timing': 2e-06,\n",
       "           'cardinality': 3,\n",
       "           'extra_info': '#1\\n',\n",
       "           'timings': [],\n",
       "           'children': [{'name': 'FILTER',\n",
       "             'timing': 0.007231,\n",
       "             'cardinality': 3,\n",
       "             'extra_info': \"((keyword = 'sequel') OR (keyword = 'revenge') OR (keyword = 'based-on-novel'))\\n[INFOSEPARATOR]\\nEC: 26834\",\n",
       "             'timings': [],\n",
       "             'children': [{'name': 'SEQ_SCAN ',\n",
       "               'timing': 0.019049,\n",
       "               'cardinality': 134170,\n",
       "               'extra_info': 'keyword\\n[INFOSEPARATOR]\\nkeyword\\nid\\n[INFOSEPARATOR]\\nEC: 134170',\n",
       "               'timings': [],\n",
       "               'children': []}]}]},\n",
       "          {'name': 'HASH_JOIN',\n",
       "           'timing': 0.216133,\n",
       "           'cardinality': 780776,\n",
       "           'extra_info': 'INNER\\nmovie_id = id\\nmovie_id = movie_id\\nmovie_id = movie_id\\n\\n[INFOSEPARATOR]\\nEC: 98\\nCost: 7971',\n",
       "           'timings': [],\n",
       "           'children': [{'name': 'SEQ_SCAN ',\n",
       "             'timing': 0.07018,\n",
       "             'cardinality': 4523930,\n",
       "             'extra_info': 'movie_keyword\\n[INFOSEPARATOR]\\nmovie_id\\nkeyword_id\\n[INFOSEPARATOR]\\nEC: 4523930',\n",
       "             'timings': [],\n",
       "             'children': []},\n",
       "            {'name': 'HASH_JOIN',\n",
       "             'timing': 0.026016,\n",
       "             'cardinality': 8393,\n",
       "             'extra_info': 'INNER\\nid = company_id\\n\\n[INFOSEPARATOR]\\nEC: 53\\nCost: 7872',\n",
       "             'timings': [],\n",
       "             'children': [{'name': 'PROJECTION',\n",
       "               'timing': 2e-06,\n",
       "               'cardinality': 89,\n",
       "               'extra_info': '#1\\n#2\\n',\n",
       "               'timings': [],\n",
       "               'children': [{'name': 'FILTER',\n",
       "                 'timing': 0.021212,\n",
       "                 'cardinality': 89,\n",
       "                 'extra_info': \"((country_code != '[pl]') AND (prefix(name, '20th Century Fox') OR prefix(name, 'Twentieth Century Fox')))\\n[INFOSEPARATOR]\\nEC: 46999\",\n",
       "                 'timings': [],\n",
       "                 'children': [{'name': 'SEQ_SCAN ',\n",
       "                   'timing': 0.028377,\n",
       "                   'cardinality': 234997,\n",
       "                   'extra_info': 'company_name\\n[INFOSEPARATOR]\\ncountry_code\\nname\\nid\\n[INFOSEPARATOR]\\nEC: 234997',\n",
       "                   'timings': [],\n",
       "                   'children': []}]}]},\n",
       "              {'name': 'HASH_JOIN',\n",
       "               'timing': 0.00146,\n",
       "               'cardinality': 96891,\n",
       "               'extra_info': 'INNER\\ncompany_type_id = id\\n\\n[INFOSEPARATOR]\\nEC: 266\\nCost: 7819',\n",
       "               'timings': [],\n",
       "               'children': [{'name': 'HASH_JOIN',\n",
       "                 'timing': 0.289372,\n",
       "                 'cardinality': 104935,\n",
       "                 'extra_info': 'INNER\\nmovie_id = movie_id\\nmovie_id = id\\n\\n[INFOSEPARATOR]\\nEC: 1331\\nCost: 7553',\n",
       "                 'timings': [],\n",
       "                 'children': [{'name': 'FILTER',\n",
       "                   'timing': 0.022903,\n",
       "                   'cardinality': 1337140,\n",
       "                   'extra_info': '(note IS NOT NULL)\\n[INFOSEPARATOR]\\nEC: 521825',\n",
       "                   'timings': [],\n",
       "                   'children': [{'name': 'SEQ_SCAN ',\n",
       "                     'timing': 0.21395,\n",
       "                     'cardinality': 2609129,\n",
       "                     'extra_info': 'movie_companies\\n[INFOSEPARATOR]\\nnote\\nmovie_id\\ncompany_type_id\\ncompany_id\\n[INFOSEPARATOR]\\nEC: 2609129',\n",
       "                     'timings': [],\n",
       "                     'children': []}]},\n",
       "                  {'name': 'HASH_JOIN',\n",
       "                   'timing': 0.104072,\n",
       "                   'cardinality': 29726,\n",
       "                   'extra_info': 'INNER\\nid = movie_id\\n\\n[INFOSEPARATOR]\\nEC: 6221\\nCost: 6221',\n",
       "                   'timings': [],\n",
       "                   'children': [{'name': 'SEQ_SCAN ',\n",
       "                     'timing': 0.341203,\n",
       "                     'cardinality': 2287271,\n",
       "                     'extra_info': 'title\\n[INFOSEPARATOR]\\nid\\ntitle\\n[INFOSEPARATOR]\\nFilters: production_year>1950 AND production_year IS NOT NULL\\n\\n[INFOSEPARATOR]\\nEC: 505662',\n",
       "                     'timings': [],\n",
       "                     'children': []},\n",
       "                    {'name': 'SEQ_SCAN ',\n",
       "                     'timing': 0.000663,\n",
       "                     'cardinality': 29997,\n",
       "                     'extra_info': 'movie_link\\n[INFOSEPARATOR]\\nlink_type_id\\nmovie_id\\n[INFOSEPARATOR]\\nEC: 29997',\n",
       "                     'timings': [],\n",
       "                     'children': []}]}]},\n",
       "                {'name': 'PROJECTION',\n",
       "                 'timing': 2e-06,\n",
       "                 'cardinality': 3,\n",
       "                 'extra_info': '#1\\n',\n",
       "                 'timings': [],\n",
       "                 'children': [{'name': 'FILTER',\n",
       "                   'timing': 8.1e-05,\n",
       "                   'cardinality': 3,\n",
       "                   'extra_info': \"(kind != 'production companies')\\n[INFOSEPARATOR]\\nEC: 0\",\n",
       "                   'timings': [],\n",
       "                   'children': [{'name': 'SEQ_SCAN ',\n",
       "                     'timing': 0.000487,\n",
       "                     'cardinality': 4,\n",
       "                     'extra_info': 'company_type\\n[INFOSEPARATOR]\\nkind\\nid\\n[INFOSEPARATOR]\\nEC: 4',\n",
       "                     'timings': [],\n",
       "                     'children': []}]}]}]}]}]}]},\n",
       "        {'name': 'SEQ_SCAN ',\n",
       "         'timing': 0.000181,\n",
       "         'cardinality': 18,\n",
       "         'extra_info': 'link_type\\n[INFOSEPARATOR]\\nid\\n[INFOSEPARATOR]\\nEC: 18',\n",
       "         'timings': [],\n",
       "         'children': []}]}]}]}]}"
      ]
     },
     "execution_count": 50,
     "metadata": {},
     "output_type": "execute_result"
    }
   ],
   "source": [
    "parsed_data[\"children\"][0]"
   ]
  },
  {
   "cell_type": "code",
   "execution_count": null,
   "id": "future-programming",
   "metadata": {},
   "outputs": [],
   "source": []
  }
 ],
 "metadata": {
  "kernelspec": {
   "display_name": "Python 3 (ipykernel)",
   "language": "python",
   "name": "python3"
  },
  "language_info": {
   "codemirror_mode": {
    "name": "ipython",
    "version": 3
   },
   "file_extension": ".py",
   "mimetype": "text/x-python",
   "name": "python",
   "nbconvert_exporter": "python",
   "pygments_lexer": "ipython3",
   "version": "3.10.11"
  }
 },
 "nbformat": 4,
 "nbformat_minor": 5
}
